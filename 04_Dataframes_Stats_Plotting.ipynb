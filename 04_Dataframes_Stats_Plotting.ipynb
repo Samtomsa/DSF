{
  "cells": [
    {
      "cell_type": "markdown",
      "metadata": {
        "id": "view-in-github",
        "colab_type": "text"
      },
      "source": [
        "<a href=\"https://colab.research.google.com/github/Samtomsa/DSF/blob/main/04_Dataframes_Stats_Plotting.ipynb\" target=\"_parent\"><img src=\"https://colab.research.google.com/assets/colab-badge.svg\" alt=\"Open In Colab\"/></a>"
      ]
    },
    {
      "cell_type": "markdown",
      "source": [
        "# 4.1 Plotting and Descriptive Statistics on Dataframes"
      ],
      "metadata": {
        "id": "dUiZBPrcTMTz"
      }
    },
    {
      "cell_type": "markdown",
      "metadata": {
        "id": "tr1UJ8ccpOj2"
      },
      "source": [
        "# Minimal plotting\n",
        "\n",
        "First we give a very minimalistic introduction to plotting which allows you to create line or scatter plots as well as histograms. For this we introduce here the Matplotlib library, which is the oldest and still one of the most widely used plotting library.\n",
        "\n",
        "We start by importing it. Almost all the most important functions are located in a submodule called ```pyplot``` which is almost systemaically abbreviated into ```plt```:"
      ]
    },
    {
      "cell_type": "code",
      "execution_count": null,
      "metadata": {
        "id": "19ZOClUOpp8N"
      },
      "outputs": [],
      "source": [
        "import matplotlib.pyplot as plt\n",
        "import numpy as np"
      ]
    },
    {
      "cell_type": "markdown",
      "metadata": {
        "id": "4sEIve8SqFjw"
      },
      "source": [
        "## Dataset\n",
        "\n",
        "We start by creating a simple dataset. As an exercise we do this by using Numpy functions. First we generate an x-axis:"
      ]
    },
    {
      "cell_type": "code",
      "execution_count": null,
      "metadata": {
        "id": "K7RVuuY0qWBK"
      },
      "outputs": [],
      "source": [
        "x_val = np.arange(0, 10, 0.1)"
      ]
    },
    {
      "cell_type": "markdown",
      "metadata": {
        "id": "PYTl2_RtqZ2r"
      },
      "source": [
        "Then we create a new array that is just the cosine of ```x_val```:"
      ]
    },
    {
      "cell_type": "code",
      "execution_count": null,
      "metadata": {
        "id": "Ip4uM569qgDe"
      },
      "outputs": [],
      "source": [
        "y_val = np.cos(x_val)"
      ]
    },
    {
      "cell_type": "markdown",
      "metadata": {
        "id": "q6ORhtc9qiQ-"
      },
      "source": [
        "## Line plot\n",
        "\n",
        "Those two arrays are all we need to create the simplest possible plot of a function ```y_val = cos(x_val)```. The first thing that we have to do is to **create a figure object and an axis object** with Matplotlib. The figure object can contain many elements (imagine for example a grid of plots), while the axis object contains a specific plot. We can get a figure and and an axis using the ```subplots()``` function:"
      ]
    },
    {
      "cell_type": "code",
      "execution_count": null,
      "metadata": {
        "id": "wJnEK4jIrTMo"
      },
      "outputs": [],
      "source": [
        "fig, ax = plt.subplots()"
      ]
    },
    {
      "cell_type": "markdown",
      "metadata": {
        "id": "lOh021OnrVFZ"
      },
      "source": [
        "As you see above this produces a blank figure that we need to fill. As all the variables that we have seen until now (Numpy arrays, Pandas dataframe) the ```fig``` and ```ax``` objects have specific functions attached to them. ```ax``` in particular has all the plotting functions attached to it. In particular the simple ```plot()``` function, which takes two arguments: x values and y values: "
      ]
    },
    {
      "cell_type": "code",
      "execution_count": null,
      "metadata": {
        "id": "JprQ5Fa_r3wM"
      },
      "outputs": [],
      "source": [
        "fig, ax = plt.subplots()\n",
        "ax.plot(x_val, y_val);"
      ]
    },
    {
      "cell_type": "markdown",
      "metadata": {
        "id": "TlmIlC1rr9ch"
      },
      "source": [
        "That's it, we have our plot! We can easily add more data to it by just calling more times the ```ax.plot``` function. For example we can generate a new y signal for the sine:"
      ]
    },
    {
      "cell_type": "code",
      "execution_count": null,
      "metadata": {
        "id": "MqCHyuz0sTUn"
      },
      "outputs": [],
      "source": [
        "y_val2 = np.sin(x_val)"
      ]
    },
    {
      "cell_type": "code",
      "execution_count": null,
      "metadata": {
        "id": "PxRVminysVJA"
      },
      "outputs": [],
      "source": [
        "fig, ax = plt.subplots()\n",
        "ax.plot(x_val, y_val);\n",
        "ax.plot(x_val, y_val2);"
      ]
    },
    {
      "cell_type": "markdown",
      "metadata": {
        "id": "XACPgJT9sXca"
      },
      "source": [
        "We will see later how to adjust everything on this plot from colors to labels etc. The only additional point we show here is how to show every datapoint with a marker such as a circle using an additional parameter representing the line/marker type:"
      ]
    },
    {
      "cell_type": "code",
      "execution_count": null,
      "metadata": {
        "id": "qkChqlzJsxSL"
      },
      "outputs": [],
      "source": [
        "fig, ax = plt.subplots()\n",
        "ax.plot(x_val, y_val,'o');\n",
        "ax.plot(x_val, y_val2,'-x');"
      ]
    },
    {
      "cell_type": "markdown",
      "metadata": {
        "id": "n4k2H0kUsye8"
      },
      "source": [
        "## Histogram\n",
        "\n",
        "The other type of plot that is very useful, in particular when dealing with statistics, is the histogram. The principle of figure creation is the same. Except that now we use the ```ax.hist()``` commmand which takes only one argument, the values that we want to turn into a histogram:"
      ]
    },
    {
      "cell_type": "code",
      "execution_count": null,
      "metadata": {
        "id": "V0Ir7jAltLYu"
      },
      "outputs": [],
      "source": [
        "fig, ax = plt.subplots()\n",
        "ax.hist(y_val);"
      ]
    },
    {
      "cell_type": "markdown",
      "metadata": {
        "id": "AwfBqKwItOxv"
      },
      "source": [
        "Again, we will see how to specify more options for this plot. At the moment we only show that we can specify the position of the bins that we want to use for binning. This can be useful if the default bin size is not satisfactory. We can simply use the ```bins``` arguments and pass an array of positions:"
      ]
    },
    {
      "cell_type": "code",
      "execution_count": null,
      "metadata": {
        "id": "AJo-HOXEtklZ"
      },
      "outputs": [],
      "source": [
        "fig, ax = plt.subplots()\n",
        "ax.hist(y_val, bins=np.arange(-1,1.5,0.5));"
      ]
    },
    {
      "cell_type": "markdown",
      "metadata": {
        "id": "oiQ_YoF2tny-"
      },
      "source": [
        "## Exercise 4,1\n",
        "\n",
        "1. Using Pandas, import the CSV file located at https://raw.githubusercontent.com/allisonhorst/palmerpenguins/master/inst/extdata/penguins.csv\n",
        "2. Display the first 3 lines using the ```head()``` function.\n",
        "3. Rembering that you can extract a given column from the table using ```my_dataframe['column_name']```, try to plot the ```bill_depth_mm```as as function of ```bill_length_mm``` using the ```plot``` function. Does it work ? Did you pass a Numpy array to the plotting function ?\n",
        "4. Change the line/marker type so that you obtain a scatter plot, i.e. only single dots without a line"
      ]
    },
    {
      "cell_type": "code",
      "source": [
        "import pandas as pd\n",
        "df = pd.read_csv('https://raw.githubusercontent.com/allisonhorst/palmerpenguins/master/inst/extdata/penguins.csv')  #1\n",
        "df.head(3)                                                                                                          #2\n",
        "df.plot('bill_length_mm','bill_depth_mm',kind = \"scatter\")                                                          #3.5 4"
      ],
      "metadata": {
        "id": "fGdsa9rS2K67",
        "outputId": "090ee037-ac99-4e97-a823-ff44ad171f23",
        "colab": {
          "base_uri": "https://localhost:8080/",
          "height": 297
        }
      },
      "execution_count": 24,
      "outputs": [
        {
          "output_type": "execute_result",
          "data": {
            "text/plain": [
              "<AxesSubplot:xlabel='bill_length_mm', ylabel='bill_depth_mm'>"
            ]
          },
          "metadata": {},
          "execution_count": 24
        },
        {
          "output_type": "display_data",
          "data": {
            "text/plain": [
              "<Figure size 432x288 with 1 Axes>"
            ],
            "image/png": "[encoded data removed]"
          },
          "metadata": {
            "needs_background": "light"
          }
        }
      ]
    },
    {
      "cell_type": "markdown",
      "source": [
        "# Plotting on Dataframes"
      ],
      "metadata": {
        "id": "Lr6csTp-8GyY"
      }
    },
    {
      "cell_type": "markdown",
      "source": [
        "Humans are very bad at reading large datasets, i.e. tables. Therefore, we have algorithms creating descriptive statistics for us. These are either summary numbers or plots, i.e. vizualisations. \n",
        "\n",
        "Pandas Dataframes have many [plotting](https://pandas.pydata.org/docs/reference/frame.html#plotting) methods. We practise some very useful ones here. The rest you can look up via the link."
      ],
      "metadata": {
        "id": "SVukJ6-e8S4v"
      }
    },
    {
      "cell_type": "code",
      "source": [
        "# Mount the google drive\n",
        "from google.colab import drive\n",
        "drive.mount('/content/drive')\n",
        "path = '/content/drive/MyDrive/Colab Notebooks/P3HT_Abs_data_Teaching.txt' #Data-CCD/4ms_10 av_30 s_Absorbance_10-32-04-868.txt'"
      ],
      "metadata": {
        "id": "PsDuE81s-mGb",
        "outputId": "805d509d-0e3e-440c-f5a4-556760a70809",
        "colab": {
          "base_uri": "https://localhost:8080/"
        }
      },
      "execution_count": 26,
      "outputs": [
        {
          "output_type": "stream",
          "name": "stdout",
          "text": [
            "Drive already mounted at /content/drive; to attempt to forcibly remount, call drive.mount(\"/content/drive\", force_remount=True).\n"
          ]
        }
      ]
    },
    {
      "cell_type": "code",
      "source": [
        "# Read the MCR data into a dataframe\n",
        "import pandas as pd\n",
        "df = pd.read_csv(path, delimiter='\\t',header=0)\n",
        "df.info()"
      ],
      "metadata": {
        "id": "Fa69poJB_eoD"
      },
      "execution_count": null,
      "outputs": []
    },
    {
      "cell_type": "code",
      "source": [
        "df.head()"
      ],
      "metadata": {
        "id": "mHyT0bZLON5W"
      },
      "execution_count": null,
      "outputs": []
    },
    {
      "cell_type": "markdown",
      "source": [
        "Histograms, or frequency plots, are much used as they show the probability density function pdf (continous data) of the data sample in a column. When dat a is discrete, it is called the probability mass function pmf. The pdf is the model of the data and the basis of all statistics.   "
      ],
      "metadata": {
        "id": "181OhEel4d1s"
      }
    },
    {
      "cell_type": "code",
      "source": [
        "# Histograms of all the columns\n",
        "#df.plot.his()"
      ],
      "metadata": {
        "id": "l5Ri12XX3vP0"
      },
      "execution_count": null,
      "outputs": []
    },
    {
      "cell_type": "code",
      "source": [
        "# Histogram of selected columns\n",
        "df.hist(df.columns[2], bins=20)"
      ],
      "metadata": {
        "id": "lFVCbH5V5qR_"
      },
      "execution_count": null,
      "outputs": []
    },
    {
      "cell_type": "markdown",
      "source": [
        "Box plots are useful for showing differences between groups of data. For example, we may be interested in the difference in the distributions between wavelengths."
      ],
      "metadata": {
        "id": "msz9dVIX96ox"
      }
    },
    {
      "cell_type": "code",
      "source": [
        "df.boxplot([df.columns[2], df.columns[3], df.columns[4]])"
      ],
      "metadata": {
        "id": "d05YiwBW94Rf"
      },
      "execution_count": null,
      "outputs": []
    },
    {
      "cell_type": "code",
      "source": [
        "# Alternatively we can look at the histograms directly\n",
        "import matplotlib.pyplot as plt\n",
        "plt.figure()\n",
        "ax = df.hist(df.columns[2], bins=20)\n",
        "df.hist(df.columns[3], bins=20, ax=ax)\n",
        "df.hist(df.columns[4], bins=20, ax=ax)\n",
        "plt.xlabel('What is this axis ?')\n",
        "plt.ylabel('Frequency')\n",
        "plt.show()"
      ],
      "metadata": {
        "id": "L-nZSegdAhDL"
      },
      "execution_count": null,
      "outputs": []
    },
    {
      "cell_type": "markdown",
      "source": [
        "Very often one is also interested correlations between columns (features) of the data. The visualisation of correlations is done with scatter plots. Here is the simplest one."
      ],
      "metadata": {
        "id": "hoZJlyFFLjmR"
      }
    },
    {
      "cell_type": "code",
      "source": [
        "#df.plot.scatter(df[df.columns[2]],df[df.columns[3]])\n",
        "df.plot.scatter(2,3)"
      ],
      "metadata": {
        "id": "XcjbQFiJMJoV"
      },
      "execution_count": null,
      "outputs": []
    },
    {
      "cell_type": "markdown",
      "source": [
        "You may take a short look at the other plotting methods on dataframes [here](https://pandas.pydata.org/docs/reference/frame.html#plotting)."
      ],
      "metadata": {
        "id": "E3CceVysMBBM"
      }
    },
    {
      "cell_type": "markdown",
      "source": [
        "# Descriptive Statistics on Dataframes"
      ],
      "metadata": {
        "id": "O3oss-t--5PF"
      }
    },
    {
      "cell_type": "markdown",
      "source": [
        "Pandas Dataframes have several\n",
        "[descriptive statistics](https://pandas.pydata.org/docs/reference/frame.html#computations-descriptive-stats) methods. Most of the are calculations based the so-called moments of the pdf (mean, variance, standard deviation, skew, kurtosis, minimum value, maximum value, quantiles, p-value ...)\n",
        "\n",
        "We practise some very useful ones. The rest you can look up in the API documentation via the link. "
      ],
      "metadata": {
        "id": "P-wCk-1y_Aqv"
      }
    },
    {
      "cell_type": "code",
      "source": [
        "round(df.describe(),2) # why do we use the round method ?"
      ],
      "metadata": {
        "id": "qH3bjU_nEoR_"
      },
      "execution_count": null,
      "outputs": []
    },
    {
      "cell_type": "code",
      "source": [
        "# Try some other descriptive methods here.\n"
      ],
      "metadata": {
        "id": "TeYE5tIJEso1"
      },
      "execution_count": null,
      "outputs": []
    },
    {
      "cell_type": "markdown",
      "source": [
        "# Exercise 4.2\n",
        "\n",
        "We return to the CCD dataset. Show the boxplots of ten wavelengths, roughly equidistant between the minumum and maximum wavelength in the dataset. "
      ],
      "metadata": {
        "id": "den2VClzRCT5"
      }
    },
    {
      "cell_type": "code",
      "source": [],
      "metadata": {
        "id": "dFSP0Is1RKda"
      },
      "execution_count": null,
      "outputs": []
    },
    {
      "cell_type": "markdown",
      "source": [
        "Now fill this [form](https://docs.google.com/forms/d/e/1FAIpQLSd5QH237yJ2PizRG1Of8mV9zDzcJLH6nmEI2KqVX1cWINi9Fg/viewform?usp=sf_link), needed for getting participation assignment points"
      ],
      "metadata": {
        "id": "yM36wOVqzzRD"
      }
    }
  ],
  "metadata": {
    "colab": {
      "name": "04-Dataframes-Stats-Plotting.ipynb",
      "provenance": [],
      "include_colab_link": true
    },
    "kernelspec": {
      "display_name": "Python 3 (ipykernel)",
      "language": "python",
      "name": "python3"
    },
    "language_info": {
      "codemirror_mode": {
        "name": "ipython",
        "version": 3
      },
      "file_extension": ".py",
      "mimetype": "text/x-python",
      "name": "python",
      "nbconvert_exporter": "python",
      "pygments_lexer": "ipython3",
      "version": "3.9.10"
    }
  },
  "nbformat": 4,
  "nbformat_minor": 0
}