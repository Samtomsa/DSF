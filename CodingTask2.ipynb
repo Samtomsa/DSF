{
  "nbformat": 4,
  "nbformat_minor": 0,
  "metadata": {
    "colab": {
      "name": "CodingTask2.ipynb",
      "provenance": [],
      "include_colab_link": true
    },
    "kernelspec": {
      "name": "python3",
      "display_name": "Python 3"
    },
    "language_info": {
      "name": "python"
    }
  },
  "cells": [
    {
      "cell_type": "markdown",
      "metadata": {
        "id": "view-in-github",
        "colab_type": "text"
      },
      "source": [
        "<a href=\"https://colab.research.google.com/github/Samtomsa/DSF/blob/main/CodingTask2.ipynb\" target=\"_parent\"><img src=\"https://colab.research.google.com/assets/colab-badge.svg\" alt=\"Open In Colab\"/></a>"
      ]
    },
    {
      "cell_type": "markdown",
      "source": [],
      "metadata": {
        "id": "faeCt-MlqlIJ"
      }
    },
    {
      "cell_type": "markdown",
      "source": [
        "Data Science Fundamentals for DCBP, S. Haug, University of Bern "
      ],
      "metadata": {
        "id": "_-1mhuoK6uqC"
      }
    },
    {
      "cell_type": "markdown",
      "source": [
        "# Coding Task 2\n",
        "\n",
        "- Deadline (upload to Ilias): 2023-05-14 24:00\n",
        "- Solutions in lecture on 2023-05-17\n",
        "- Estimated effort: from 4 to 60 hours\n",
        "- Images (data) on Ilias in the Data folder, the images.zip file\n",
        "- Main notebook is number 11 for this task, however, also others may help you. You can also benefit a lot from googeling for code examples\n"
      ],
      "metadata": {
        "id": "gn4RkUC66-ou"
      }
    },
    {
      "cell_type": "markdown",
      "source": [
        "## Subtasks (maximum 12.5 points)"
      ],
      "metadata": {
        "id": "KYKF2iS56v1z"
      }
    },
    {
      "cell_type": "markdown",
      "source": [
        "- Upload the images to a folder on your google drive. Write a function which retrieves the filenames of the images, contains a loop converting them to png images and saves them. [about 1 hour] [max 3 points] \n",
        "- With some filtering and sthresholding, write a function which converts the colored bins into nice white segments on a black background for one image. [about 1 hour][max 3 points]\n",
        "- Write an algorithm which counts the number of bins. First approach could be a \"sliding window\" algorithm, i.e a loop sliding over the image and counting regions with substantial white content. There may also be nice segmentation tools out \"there\" already. You may google. [about 4 hours][max 3 points] \n",
        "- Write an algorithm which does the latter task on all images. As the images are quite different, this is a large task which goes beyond the time budget of this exercise, however, you can give it a try. If it works out for a couple of images, that is already good. [from 4 to 50 hours][max 3.5 points]"
      ],
      "metadata": {
        "id": "rXqhhPMu9aPx"
      }
    },
    {
      "cell_type": "markdown",
      "source": [
        "Work in teams and have fun ! "
      ],
      "metadata": {
        "id": "OfvMackX-SFc"
      }
    },
    {
      "cell_type": "markdown",
      "source": [
        "**Coding Task 2**"
      ],
      "metadata": {
        "id": "8sbNi8-cz0nw"
      }
    },
    {
      "cell_type": "code",
      "source": [
        "!pip install pyheif\n",
        "\n",
        "import os\n",
        "from google.colab import drive\n",
        "from PIL import Image\n",
        "import pyheif\n",
        "\n",
        "def convert_to_png(folder_path):\n",
        "  # mount Google Drive\n",
        "  drive.mount('/content/drive')\n",
        "  \n",
        "  # create new folder for PNG images\n",
        "  png_folder_path = os.path.join(folder_path, 'png_images')\n",
        "  os.makedirs(png_folder_path, exist_ok=True)\n",
        "  \n",
        "  # retrieve filenames of images in specified folder\n",
        "  image_filenames = [f for f in os.listdir(folder_path) if os.path.isfile(os.path.join(folder_path, f))]\n",
        "  \n",
        "  # loop through images, convert to PNG, and save to new folder\n",
        "  for filename in image_filenames:\n",
        "    try:\n",
        "      # open image and convert to RGBA mode\n",
        "      with Image.open(os.path.join(folder_path, filename)) as im:\n",
        "        rgba_im = im.convert('RGBA')\n",
        "        \n",
        "        # save PNG version of image to new folder\n",
        "        png_filename = os.path.splitext(filename)[0] + '.png'\n",
        "        png_filepath = os.path.join(png_folder_path, png_filename)\n",
        "        with open(png_filepath, 'wb') as png_file:\n",
        "          rgba_im.save(png_file, format='PNG')\n",
        "    except (UnidentifiedImageError, ValueError):\n",
        "      print(f\"Error: Unable to convert image file {filename}\")\n",
        "      continue\n",
        "      \n",
        "    # save PNG version of image to new folder\n",
        "    png_filename = os.path.splitext(filename)[0] + '.png'\n",
        "    png_filepath = os.path.join(png_folder_path, png_filename)\n",
        "    with open(png_filepath, 'wb') as png_file:\n",
        "      rgba_im.save(png_file, format='PNG')\n",
        "  \n",
        "  print('Conversion complete!')\n",
        "  \n",
        "# call the function with the specified path\n",
        "folder_path = '/content/drive/MyDrive/Colab Notebooks/images'\n",
        "convert_to_png(folder_path)\n"
      ],
      "metadata": {
        "id": "uTyFAB6CzzfN",
        "outputId": "555f69ad-2faf-48bc-a3bd-8a196cd9c6ca",
        "colab": {
          "base_uri": "https://localhost:8080/",
          "height": 556
        }
      },
      "execution_count": 4,
      "outputs": [
        {
          "output_type": "stream",
          "name": "stdout",
          "text": [
            "Looking in indexes: https://pypi.org/simple, https://us-python.pkg.dev/colab-wheels/public/simple/\n",
            "Requirement already satisfied: pyheif in /usr/local/lib/python3.10/dist-packages (0.7.1)\n",
            "Requirement already satisfied: cffi>=1.0.0 in /usr/local/lib/python3.10/dist-packages (from pyheif) (1.15.1)\n",
            "Requirement already satisfied: pycparser in /usr/local/lib/python3.10/dist-packages (from cffi>=1.0.0->pyheif) (2.21)\n",
            "Drive already mounted at /content/drive; to attempt to forcibly remount, call drive.mount(\"/content/drive\", force_remount=True).\n"
          ]
        },
        {
          "output_type": "error",
          "ename": "NameError",
          "evalue": "ignored",
          "traceback": [
            "\u001b[0;31m---------------------------------------------------------------------------\u001b[0m",
            "\u001b[0;31mUnidentifiedImageError\u001b[0m                    Traceback (most recent call last)",
            "\u001b[0;32m<ipython-input-4-d7a8c5c3443a>\u001b[0m in \u001b[0;36mconvert_to_png\u001b[0;34m(folder_path)\u001b[0m\n\u001b[1;32m     22\u001b[0m       \u001b[0;31m# open image and convert to RGBA mode\u001b[0m\u001b[0;34m\u001b[0m\u001b[0;34m\u001b[0m\u001b[0m\n\u001b[0;32m---> 23\u001b[0;31m       \u001b[0;32mwith\u001b[0m \u001b[0mImage\u001b[0m\u001b[0;34m.\u001b[0m\u001b[0mopen\u001b[0m\u001b[0;34m(\u001b[0m\u001b[0mos\u001b[0m\u001b[0;34m.\u001b[0m\u001b[0mpath\u001b[0m\u001b[0;34m.\u001b[0m\u001b[0mjoin\u001b[0m\u001b[0;34m(\u001b[0m\u001b[0mfolder_path\u001b[0m\u001b[0;34m,\u001b[0m \u001b[0mfilename\u001b[0m\u001b[0;34m)\u001b[0m\u001b[0;34m)\u001b[0m \u001b[0;32mas\u001b[0m \u001b[0mim\u001b[0m\u001b[0;34m:\u001b[0m\u001b[0;34m\u001b[0m\u001b[0;34m\u001b[0m\u001b[0m\n\u001b[0m\u001b[1;32m     24\u001b[0m         \u001b[0mrgba_im\u001b[0m \u001b[0;34m=\u001b[0m \u001b[0mim\u001b[0m\u001b[0;34m.\u001b[0m\u001b[0mconvert\u001b[0m\u001b[0;34m(\u001b[0m\u001b[0;34m'RGBA'\u001b[0m\u001b[0;34m)\u001b[0m\u001b[0;34m\u001b[0m\u001b[0;34m\u001b[0m\u001b[0m\n",
            "\u001b[0;32m/usr/local/lib/python3.10/dist-packages/PIL/Image.py\u001b[0m in \u001b[0;36mopen\u001b[0;34m(fp, mode, formats)\u001b[0m\n\u001b[1;32m   3029\u001b[0m         \u001b[0mwarnings\u001b[0m\u001b[0;34m.\u001b[0m\u001b[0mwarn\u001b[0m\u001b[0;34m(\u001b[0m\u001b[0mmessage\u001b[0m\u001b[0;34m)\u001b[0m\u001b[0;34m\u001b[0m\u001b[0;34m\u001b[0m\u001b[0m\n\u001b[0;32m-> 3030\u001b[0;31m     raise UnidentifiedImageError(\n\u001b[0m\u001b[1;32m   3031\u001b[0m         \u001b[0;34m\"cannot identify image file %r\"\u001b[0m \u001b[0;34m%\u001b[0m \u001b[0;34m(\u001b[0m\u001b[0mfilename\u001b[0m \u001b[0;32mif\u001b[0m \u001b[0mfilename\u001b[0m \u001b[0;32melse\u001b[0m \u001b[0mfp\u001b[0m\u001b[0;34m)\u001b[0m\u001b[0;34m\u001b[0m\u001b[0;34m\u001b[0m\u001b[0m\n",
            "\u001b[0;31mUnidentifiedImageError\u001b[0m: cannot identify image file '/content/drive/MyDrive/Colab Notebooks/images/IMG_5381.HEIC'",
            "\nDuring handling of the above exception, another exception occurred:\n",
            "\u001b[0;31mNameError\u001b[0m                                 Traceback (most recent call last)",
            "\u001b[0;32m<ipython-input-4-d7a8c5c3443a>\u001b[0m in \u001b[0;36m<cell line: 45>\u001b[0;34m()\u001b[0m\n\u001b[1;32m     43\u001b[0m \u001b[0;31m# call the function with the specified path\u001b[0m\u001b[0;34m\u001b[0m\u001b[0;34m\u001b[0m\u001b[0m\n\u001b[1;32m     44\u001b[0m \u001b[0mfolder_path\u001b[0m \u001b[0;34m=\u001b[0m \u001b[0;34m'/content/drive/MyDrive/Colab Notebooks/images'\u001b[0m\u001b[0;34m\u001b[0m\u001b[0;34m\u001b[0m\u001b[0m\n\u001b[0;32m---> 45\u001b[0;31m \u001b[0mconvert_to_png\u001b[0m\u001b[0;34m(\u001b[0m\u001b[0mfolder_path\u001b[0m\u001b[0;34m)\u001b[0m\u001b[0;34m\u001b[0m\u001b[0;34m\u001b[0m\u001b[0m\n\u001b[0m",
            "\u001b[0;32m<ipython-input-4-d7a8c5c3443a>\u001b[0m in \u001b[0;36mconvert_to_png\u001b[0;34m(folder_path)\u001b[0m\n\u001b[1;32m     29\u001b[0m         \u001b[0;32mwith\u001b[0m \u001b[0mopen\u001b[0m\u001b[0;34m(\u001b[0m\u001b[0mpng_filepath\u001b[0m\u001b[0;34m,\u001b[0m \u001b[0;34m'wb'\u001b[0m\u001b[0;34m)\u001b[0m \u001b[0;32mas\u001b[0m \u001b[0mpng_file\u001b[0m\u001b[0;34m:\u001b[0m\u001b[0;34m\u001b[0m\u001b[0;34m\u001b[0m\u001b[0m\n\u001b[1;32m     30\u001b[0m           \u001b[0mrgba_im\u001b[0m\u001b[0;34m.\u001b[0m\u001b[0msave\u001b[0m\u001b[0;34m(\u001b[0m\u001b[0mpng_file\u001b[0m\u001b[0;34m,\u001b[0m \u001b[0mformat\u001b[0m\u001b[0;34m=\u001b[0m\u001b[0;34m'PNG'\u001b[0m\u001b[0;34m)\u001b[0m\u001b[0;34m\u001b[0m\u001b[0;34m\u001b[0m\u001b[0m\n\u001b[0;32m---> 31\u001b[0;31m     \u001b[0;32mexcept\u001b[0m \u001b[0;34m(\u001b[0m\u001b[0mUnidentifiedImageError\u001b[0m\u001b[0;34m,\u001b[0m \u001b[0mValueError\u001b[0m\u001b[0;34m)\u001b[0m\u001b[0;34m:\u001b[0m\u001b[0;34m\u001b[0m\u001b[0;34m\u001b[0m\u001b[0m\n\u001b[0m\u001b[1;32m     32\u001b[0m       \u001b[0mprint\u001b[0m\u001b[0;34m(\u001b[0m\u001b[0;34mf\"Error: Unable to convert image file {filename}\"\u001b[0m\u001b[0;34m)\u001b[0m\u001b[0;34m\u001b[0m\u001b[0;34m\u001b[0m\u001b[0m\n\u001b[1;32m     33\u001b[0m       \u001b[0;32mcontinue\u001b[0m\u001b[0;34m\u001b[0m\u001b[0;34m\u001b[0m\u001b[0m\n",
            "\u001b[0;31mNameError\u001b[0m: name 'UnidentifiedImageError' is not defined"
          ]
        }
      ]
    },
    {
      "cell_type": "code",
      "source": [],
      "metadata": {
        "id": "jVAr-8da3uXi"
      },
      "execution_count": null,
      "outputs": []
    }
  ]
}