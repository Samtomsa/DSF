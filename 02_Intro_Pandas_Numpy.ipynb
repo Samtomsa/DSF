{
  "nbformat": 4,
  "nbformat_minor": 0,
  "metadata": {
    "colab": {
      "provenance": [],
      "include_colab_link": true
    },
    "kernelspec": {
      "name": "python3",
      "display_name": "Python 3"
    }
  },
  "cells": [
    {
      "cell_type": "markdown",
      "metadata": {
        "id": "view-in-github",
        "colab_type": "text"
      },
      "source": [
        "<a href=\"https://colab.research.google.com/github/Samtomsa/DSF/blob/main/02_Intro_Pandas_Numpy.ipynb\" target=\"_parent\"><img src=\"https://colab.research.google.com/assets/colab-badge.svg\" alt=\"Open In Colab\"/></a>"
      ]
    },
    {
      "cell_type": "markdown",
      "source": [
        "# 1. Pandas and Numpy"
      ],
      "metadata": {
        "id": "1a_Gy0cT_da8"
      }
    },
    {
      "cell_type": "markdown",
      "metadata": {
        "id": "58HlKuYlwfeY"
      },
      "source": [
        "\n",
        "Python has several built-in types of data structures such as lists and dictionaries, but none of them allows you to efficiently do computations on large lists or tables of data. The Numpy and Pandas libraries fill this gap by providing 1) specific data structures on which one can efficiently compute and 2) functions to perform the computations on these structures.\n",
        "\n",
        "Numpy is the core scientific computing library on which virtually all other scientific Python packages are building (except for deep learning libraries). This includes notably Scipy, a package offering numerical routines for optimization, regression etc. that will be used in the last series of lectures.\n",
        "\n",
        "Pandas, which itself builds on top of Numpy, is the core data science library on which higher level libraries (e.g. for plotting) are building. \n",
        "\n",
        "Here we briefly present the main data structure offered by Pandas, the **DataFrame** and then show how the data in DataFrames are actually **arrays**, the main data structure of Numpy. This allows us in the next notebooks to explore Numpy before coming back at the end of the course to Pandas.\n",
        "\n",
        "Let's first import both Pandas and Numpy. Both have very commonly used abbreviations ```np``` and ```pd``` that you should use as well to simplify your life. Note that most sub-modules are directly accessible and you won't have to import specific ones as migth be the case for other libraries."
      ]
    },
    {
      "cell_type": "code",
      "metadata": {
        "id": "Wj9o0gDqvu3i"
      },
      "source": [
        "import pandas as pd\n",
        "import numpy as np"
      ],
      "execution_count": 4,
      "outputs": []
    },
    {
      "cell_type": "markdown",
      "source": [
        "## Importing data"
      ],
      "metadata": {
        "id": "dAJwRYrJ_pQx"
      }
    },
    {
      "cell_type": "markdown",
      "metadata": {
        "id": "daLzb8zpxkGZ"
      },
      "source": [
        "Just like any other library, Pandas offers functionality through the *dot-notation* (as e.g. in ```math.cos()```). When surveying usage of Pandas in places like GitHub, it turns out that the most used function is the one allowing one to import a CSV (comma-separated values). Indeed while we could import tabular data with the ```read``` function, this becomes quickly cumbersome for complex data and Pandas takes care of all details for us. \n"
      ]
    },
    {
      "cell_type": "markdown",
      "metadata": {
        "id": "l7WZpmVl5isP"
      },
      "source": [
        "### read_*** functions\n",
        "\n",
        "As an example we import here the file available [here](https://github.com/KingaS03/Introduction-to-Python/blob/master/Homework/country_vaccinations.xls). If we look at the file we see that even though it has an .xls extension, it is in fact just a CSV file. Pandas has many importing functions and we use here ```read_csv```. You can see the list of all available importers by typing ```pd.read_``` and seeing options from autocomplete.\n",
        "\n",
        "We can either download the file and indicate the file path or directly *read* it from the web (*Note that on GitHub you need to use the [raw](https://raw.githubusercontent.com/KingaS03/Introduction-to-Python/master/Homework/country_vaccinations.xls) version of the file to download it*)"
      ]
    },
    {
      "cell_type": "markdown",
      "source": [
        "```\n",
        "url = 'https://raw.githubusercontent.com/KingaS03/Introduction-to-Python/master/Homework/country_vaccinations.xls'\n",
        "vaccine = pd.read_csv(url)\n",
        "```"
      ],
      "metadata": {
        "id": "xzhJ68RFvwU5"
      }
    },
    {
      "cell_type": "code",
      "source": [
        "url = 'https://raw.githubusercontent.com/KingaS03/Introduction-to-Python/master/Homework/country_vaccinations.xls'\n",
        "vaccine = pd.read_csv(url)"
      ],
      "metadata": {
        "id": "ySb3DYwW6ppr"
      },
      "execution_count": 5,
      "outputs": []
    },
    {
      "cell_type": "markdown",
      "metadata": {
        "id": "mfolWD-P4BBg"
      },
      "source": [
        "Let's first see what this object is:"
      ]
    },
    {
      "cell_type": "markdown",
      "source": [
        "type(vaccine)"
      ],
      "metadata": {
        "id": "Pvrppa_M4aNO"
      }
    },
    {
      "cell_type": "code",
      "source": [
        "type(vaccine)"
      ],
      "metadata": {
        "id": "Q1N9cEpSyem6",
        "outputId": "d7143b2e-6f17-4221-be75-73e4649e24f1",
        "colab": {
          "base_uri": "https://localhost:8080/"
        }
      },
      "execution_count": 6,
      "outputs": [
        {
          "output_type": "execute_result",
          "data": {
            "text/plain": [
              "pandas.core.frame.DataFrame"
            ]
          },
          "metadata": {},
          "execution_count": 6
        }
      ]
    },
    {
      "cell_type": "markdown",
      "metadata": {
        "id": "MgHzkxFd4cn4"
      },
      "source": [
        "We see that we are dealing with a DataFrame, the two-dimensional data structure offered by Pandas. If we just execute a cell with that variable we can display the first lines:"
      ]
    },
    {
      "cell_type": "markdown",
      "source": [
        "vaccine"
      ],
      "metadata": {
        "id": "ZE700boZ4bDv"
      }
    },
    {
      "cell_type": "code",
      "source": [
        "vaccine"
      ],
      "metadata": {
        "id": "wsCCINAU7FAh",
        "outputId": "e88ea0ed-b7de-46fd-fff8-e96873b56a85",
        "colab": {
          "base_uri": "https://localhost:8080/",
          "height": 748
        }
      },
      "execution_count": 7,
      "outputs": [
        {
          "output_type": "execute_result",
          "data": {
            "text/plain": [
              "      country iso_code        date  total_vaccinations  people_vaccinated  \\\n",
              "0     Albania      ALB  2021-01-10                 0.0                0.0   \n",
              "1     Albania      ALB  2021-01-11                 NaN                NaN   \n",
              "2     Albania      ALB  2021-01-12               128.0              128.0   \n",
              "3     Albania      ALB  2021-01-13               188.0              188.0   \n",
              "4     Albania      ALB  2021-01-14               266.0              266.0   \n",
              "...       ...      ...         ...                 ...                ...   \n",
              "3614    Wales      NaN  2021-02-15            803178.0           795927.0   \n",
              "3615    Wales      NaN  2021-02-16            820339.0           807351.0   \n",
              "3616    Wales      NaN  2021-02-17            841975.0           822633.0   \n",
              "3617    Wales      NaN  2021-02-18            864498.0           839065.0   \n",
              "3618    Wales      NaN  2021-02-19            885906.0           853904.0   \n",
              "\n",
              "      people_fully_vaccinated  daily_vaccinations_raw  daily_vaccinations  \\\n",
              "0                         NaN                     NaN                 NaN   \n",
              "1                         NaN                     NaN                64.0   \n",
              "2                         NaN                     NaN                64.0   \n",
              "3                         NaN                    60.0                63.0   \n",
              "4                         NaN                    78.0                66.0   \n",
              "...                       ...                     ...                 ...   \n",
              "3614                   7251.0                 12967.0             24418.0   \n",
              "3615                  12988.0                 17161.0             23033.0   \n",
              "3616                  19342.0                 21636.0             22012.0   \n",
              "3617                  25433.0                 22523.0             20649.0   \n",
              "3618                  32002.0                 21408.0             18891.0   \n",
              "\n",
              "      total_vaccinations_per_hundred  people_vaccinated_per_hundred  \\\n",
              "0                               0.00                           0.00   \n",
              "1                                NaN                            NaN   \n",
              "2                               0.00                           0.00   \n",
              "3                               0.01                           0.01   \n",
              "4                               0.01                           0.01   \n",
              "...                              ...                            ...   \n",
              "3614                           25.47                          25.24   \n",
              "3615                           26.02                          25.61   \n",
              "3616                           26.70                          26.09   \n",
              "3617                           27.42                          26.61   \n",
              "3618                           28.10                          27.08   \n",
              "\n",
              "      people_fully_vaccinated_per_hundred  daily_vaccinations_per_million  \\\n",
              "0                                     NaN                             NaN   \n",
              "1                                     NaN                            22.0   \n",
              "2                                     NaN                            22.0   \n",
              "3                                     NaN                            22.0   \n",
              "4                                     NaN                            23.0   \n",
              "...                                   ...                             ...   \n",
              "3614                                 0.23                          7745.0   \n",
              "3615                                 0.41                          7305.0   \n",
              "3616                                 0.61                          6982.0   \n",
              "3617                                 0.81                          6549.0   \n",
              "3618                                 1.02                          5992.0   \n",
              "\n",
              "                                 vaccines                       source_name  \\\n",
              "0                         Pfizer/BioNTech                Ministry of Health   \n",
              "1                         Pfizer/BioNTech                Ministry of Health   \n",
              "2                         Pfizer/BioNTech                Ministry of Health   \n",
              "3                         Pfizer/BioNTech                Ministry of Health   \n",
              "4                         Pfizer/BioNTech                Ministry of Health   \n",
              "...                                   ...                               ...   \n",
              "3614  Oxford/AstraZeneca, Pfizer/BioNTech  Government of the United Kingdom   \n",
              "3615  Oxford/AstraZeneca, Pfizer/BioNTech  Government of the United Kingdom   \n",
              "3616  Oxford/AstraZeneca, Pfizer/BioNTech  Government of the United Kingdom   \n",
              "3617  Oxford/AstraZeneca, Pfizer/BioNTech  Government of the United Kingdom   \n",
              "3618  Oxford/AstraZeneca, Pfizer/BioNTech  Government of the United Kingdom   \n",
              "\n",
              "                                         source_website  \n",
              "0     https://shendetesia.gov.al/covid19-ministria-e...  \n",
              "1     https://shendetesia.gov.al/covid19-ministria-e...  \n",
              "2     https://shendetesia.gov.al/covid19-ministria-e...  \n",
              "3     https://shendetesia.gov.al/covid19-ministria-e...  \n",
              "4     https://shendetesia.gov.al/covid19-ministria-e...  \n",
              "...                                                 ...  \n",
              "3614  https://coronavirus.data.gov.uk/details/health...  \n",
              "3615  https://coronavirus.data.gov.uk/details/health...  \n",
              "3616  https://coronavirus.data.gov.uk/details/health...  \n",
              "3617  https://coronavirus.data.gov.uk/details/health...  \n",
              "3618  https://coronavirus.data.gov.uk/details/health...  \n",
              "\n",
              "[3619 rows x 15 columns]"
            ],
            "text/html": [
              "\n",
              "  <div id=\"df-b43f7ea0-adc4-4f41-803a-37a0e657a894\">\n",
              "    <div class=\"colab-df-container\">\n",
              "      <div>\n",
              "<style scoped>\n",
              "    .dataframe tbody tr th:only-of-type {\n",
              "        vertical-align: middle;\n",
              "    }\n",
              "\n",
              "    .dataframe tbody tr th {\n",
              "        vertical-align: top;\n",
              "    }\n",
              "\n",
              "    .dataframe thead th {\n",
              "        text-align: right;\n",
              "    }\n",
              "</style>\n",
              "<table border=\"1\" class=\"dataframe\">\n",
              "  <thead>\n",
              "    <tr style=\"text-align: right;\">\n",
              "      <th></th>\n",
              "      <th>country</th>\n",
              "      <th>iso_code</th>\n",
              "      <th>date</th>\n",
              "      <th>total_vaccinations</th>\n",
              "      <th>people_vaccinated</th>\n",
              "      <th>people_fully_vaccinated</th>\n",
              "      <th>daily_vaccinations_raw</th>\n",
              "      <th>daily_vaccinations</th>\n",
              "      <th>total_vaccinations_per_hundred</th>\n",
              "      <th>people_vaccinated_per_hundred</th>\n",
              "      <th>people_fully_vaccinated_per_hundred</th>\n",
              "      <th>daily_vaccinations_per_million</th>\n",
              "      <th>vaccines</th>\n",
              "      <th>source_name</th>\n",
              "      <th>source_website</th>\n",
              "    </tr>\n",
              "  </thead>\n",
              "  <tbody>\n",
              "    <tr>\n",
              "      <th>0</th>\n",
              "      <td>Albania</td>\n",
              "      <td>ALB</td>\n",
              "      <td>2021-01-10</td>\n",
              "      <td>0.0</td>\n",
              "      <td>0.0</td>\n",
              "      <td>NaN</td>\n",
              "      <td>NaN</td>\n",
              "      <td>NaN</td>\n",
              "      <td>0.00</td>\n",
              "      <td>0.00</td>\n",
              "      <td>NaN</td>\n",
              "      <td>NaN</td>\n",
              "      <td>Pfizer/BioNTech</td>\n",
              "      <td>Ministry of Health</td>\n",
              "      <td>https://shendetesia.gov.al/covid19-ministria-e...</td>\n",
              "    </tr>\n",
              "    <tr>\n",
              "      <th>1</th>\n",
              "      <td>Albania</td>\n",
              "      <td>ALB</td>\n",
              "      <td>2021-01-11</td>\n",
              "      <td>NaN</td>\n",
              "      <td>NaN</td>\n",
              "      <td>NaN</td>\n",
              "      <td>NaN</td>\n",
              "      <td>64.0</td>\n",
              "      <td>NaN</td>\n",
              "      <td>NaN</td>\n",
              "      <td>NaN</td>\n",
              "      <td>22.0</td>\n",
              "      <td>Pfizer/BioNTech</td>\n",
              "      <td>Ministry of Health</td>\n",
              "      <td>https://shendetesia.gov.al/covid19-ministria-e...</td>\n",
              "    </tr>\n",
              "    <tr>\n",
              "      <th>2</th>\n",
              "      <td>Albania</td>\n",
              "      <td>ALB</td>\n",
              "      <td>2021-01-12</td>\n",
              "      <td>128.0</td>\n",
              "      <td>128.0</td>\n",
              "      <td>NaN</td>\n",
              "      <td>NaN</td>\n",
              "      <td>64.0</td>\n",
              "      <td>0.00</td>\n",
              "      <td>0.00</td>\n",
              "      <td>NaN</td>\n",
              "      <td>22.0</td>\n",
              "      <td>Pfizer/BioNTech</td>\n",
              "      <td>Ministry of Health</td>\n",
              "      <td>https://shendetesia.gov.al/covid19-ministria-e...</td>\n",
              "    </tr>\n",
              "    <tr>\n",
              "      <th>3</th>\n",
              "      <td>Albania</td>\n",
              "      <td>ALB</td>\n",
              "      <td>2021-01-13</td>\n",
              "      <td>188.0</td>\n",
              "      <td>188.0</td>\n",
              "      <td>NaN</td>\n",
              "      <td>60.0</td>\n",
              "      <td>63.0</td>\n",
              "      <td>0.01</td>\n",
              "      <td>0.01</td>\n",
              "      <td>NaN</td>\n",
              "      <td>22.0</td>\n",
              "      <td>Pfizer/BioNTech</td>\n",
              "      <td>Ministry of Health</td>\n",
              "      <td>https://shendetesia.gov.al/covid19-ministria-e...</td>\n",
              "    </tr>\n",
              "    <tr>\n",
              "      <th>4</th>\n",
              "      <td>Albania</td>\n",
              "      <td>ALB</td>\n",
              "      <td>2021-01-14</td>\n",
              "      <td>266.0</td>\n",
              "      <td>266.0</td>\n",
              "      <td>NaN</td>\n",
              "      <td>78.0</td>\n",
              "      <td>66.0</td>\n",
              "      <td>0.01</td>\n",
              "      <td>0.01</td>\n",
              "      <td>NaN</td>\n",
              "      <td>23.0</td>\n",
              "      <td>Pfizer/BioNTech</td>\n",
              "      <td>Ministry of Health</td>\n",
              "      <td>https://shendetesia.gov.al/covid19-ministria-e...</td>\n",
              "    </tr>\n",
              "    <tr>\n",
              "      <th>...</th>\n",
              "      <td>...</td>\n",
              "      <td>...</td>\n",
              "      <td>...</td>\n",
              "      <td>...</td>\n",
              "      <td>...</td>\n",
              "      <td>...</td>\n",
              "      <td>...</td>\n",
              "      <td>...</td>\n",
              "      <td>...</td>\n",
              "      <td>...</td>\n",
              "      <td>...</td>\n",
              "      <td>...</td>\n",
              "      <td>...</td>\n",
              "      <td>...</td>\n",
              "      <td>...</td>\n",
              "    </tr>\n",
              "    <tr>\n",
              "      <th>3614</th>\n",
              "      <td>Wales</td>\n",
              "      <td>NaN</td>\n",
              "      <td>2021-02-15</td>\n",
              "      <td>803178.0</td>\n",
              "      <td>795927.0</td>\n",
              "      <td>7251.0</td>\n",
              "      <td>12967.0</td>\n",
              "      <td>24418.0</td>\n",
              "      <td>25.47</td>\n",
              "      <td>25.24</td>\n",
              "      <td>0.23</td>\n",
              "      <td>7745.0</td>\n",
              "      <td>Oxford/AstraZeneca, Pfizer/BioNTech</td>\n",
              "      <td>Government of the United Kingdom</td>\n",
              "      <td>https://coronavirus.data.gov.uk/details/health...</td>\n",
              "    </tr>\n",
              "    <tr>\n",
              "      <th>3615</th>\n",
              "      <td>Wales</td>\n",
              "      <td>NaN</td>\n",
              "      <td>2021-02-16</td>\n",
              "      <td>820339.0</td>\n",
              "      <td>807351.0</td>\n",
              "      <td>12988.0</td>\n",
              "      <td>17161.0</td>\n",
              "      <td>23033.0</td>\n",
              "      <td>26.02</td>\n",
              "      <td>25.61</td>\n",
              "      <td>0.41</td>\n",
              "      <td>7305.0</td>\n",
              "      <td>Oxford/AstraZeneca, Pfizer/BioNTech</td>\n",
              "      <td>Government of the United Kingdom</td>\n",
              "      <td>https://coronavirus.data.gov.uk/details/health...</td>\n",
              "    </tr>\n",
              "    <tr>\n",
              "      <th>3616</th>\n",
              "      <td>Wales</td>\n",
              "      <td>NaN</td>\n",
              "      <td>2021-02-17</td>\n",
              "      <td>841975.0</td>\n",
              "      <td>822633.0</td>\n",
              "      <td>19342.0</td>\n",
              "      <td>21636.0</td>\n",
              "      <td>22012.0</td>\n",
              "      <td>26.70</td>\n",
              "      <td>26.09</td>\n",
              "      <td>0.61</td>\n",
              "      <td>6982.0</td>\n",
              "      <td>Oxford/AstraZeneca, Pfizer/BioNTech</td>\n",
              "      <td>Government of the United Kingdom</td>\n",
              "      <td>https://coronavirus.data.gov.uk/details/health...</td>\n",
              "    </tr>\n",
              "    <tr>\n",
              "      <th>3617</th>\n",
              "      <td>Wales</td>\n",
              "      <td>NaN</td>\n",
              "      <td>2021-02-18</td>\n",
              "      <td>864498.0</td>\n",
              "      <td>839065.0</td>\n",
              "      <td>25433.0</td>\n",
              "      <td>22523.0</td>\n",
              "      <td>20649.0</td>\n",
              "      <td>27.42</td>\n",
              "      <td>26.61</td>\n",
              "      <td>0.81</td>\n",
              "      <td>6549.0</td>\n",
              "      <td>Oxford/AstraZeneca, Pfizer/BioNTech</td>\n",
              "      <td>Government of the United Kingdom</td>\n",
              "      <td>https://coronavirus.data.gov.uk/details/health...</td>\n",
              "    </tr>\n",
              "    <tr>\n",
              "      <th>3618</th>\n",
              "      <td>Wales</td>\n",
              "      <td>NaN</td>\n",
              "      <td>2021-02-19</td>\n",
              "      <td>885906.0</td>\n",
              "      <td>853904.0</td>\n",
              "      <td>32002.0</td>\n",
              "      <td>21408.0</td>\n",
              "      <td>18891.0</td>\n",
              "      <td>28.10</td>\n",
              "      <td>27.08</td>\n",
              "      <td>1.02</td>\n",
              "      <td>5992.0</td>\n",
              "      <td>Oxford/AstraZeneca, Pfizer/BioNTech</td>\n",
              "      <td>Government of the United Kingdom</td>\n",
              "      <td>https://coronavirus.data.gov.uk/details/health...</td>\n",
              "    </tr>\n",
              "  </tbody>\n",
              "</table>\n",
              "<p>3619 rows × 15 columns</p>\n",
              "</div>\n",
              "      <button class=\"colab-df-convert\" onclick=\"convertToInteractive('df-b43f7ea0-adc4-4f41-803a-37a0e657a894')\"\n",
              "              title=\"Convert this dataframe to an interactive table.\"\n",
              "              style=\"display:none;\">\n",
              "        \n",
              "  <svg xmlns=\"http://www.w3.org/2000/svg\" height=\"24px\"viewBox=\"0 0 24 24\"\n",
              "       width=\"24px\">\n",
              "    <path d=\"M0 0h24v24H0V0z\" fill=\"none\"/>\n",
              "    <path d=\"M18.56 5.44l.94 2.06.94-2.06 2.06-.94-2.06-.94-.94-2.06-.94 2.06-2.06.94zm-11 1L8.5 8.5l.94-2.06 2.06-.94-2.06-.94L8.5 2.5l-.94 2.06-2.06.94zm10 10l.94 2.06.94-2.06 2.06-.94-2.06-.94-.94-2.06-.94 2.06-2.06.94z\"/><path d=\"M17.41 7.96l-1.37-1.37c-.4-.4-.92-.59-1.43-.59-.52 0-1.04.2-1.43.59L10.3 9.45l-7.72 7.72c-.78.78-.78 2.05 0 2.83L4 21.41c.39.39.9.59 1.41.59.51 0 1.02-.2 1.41-.59l7.78-7.78 2.81-2.81c.8-.78.8-2.07 0-2.86zM5.41 20L4 18.59l7.72-7.72 1.47 1.35L5.41 20z\"/>\n",
              "  </svg>\n",
              "      </button>\n",
              "      \n",
              "  <style>\n",
              "    .colab-df-container {\n",
              "      display:flex;\n",
              "      flex-wrap:wrap;\n",
              "      gap: 12px;\n",
              "    }\n",
              "\n",
              "    .colab-df-convert {\n",
              "      background-color: #E8F0FE;\n",
              "      border: none;\n",
              "      border-radius: 50%;\n",
              "      cursor: pointer;\n",
              "      display: none;\n",
              "      fill: #1967D2;\n",
              "      height: 32px;\n",
              "      padding: 0 0 0 0;\n",
              "      width: 32px;\n",
              "    }\n",
              "\n",
              "    .colab-df-convert:hover {\n",
              "      background-color: #E2EBFA;\n",
              "      box-shadow: 0px 1px 2px rgba(60, 64, 67, 0.3), 0px 1px 3px 1px rgba(60, 64, 67, 0.15);\n",
              "      fill: #174EA6;\n",
              "    }\n",
              "\n",
              "    [theme=dark] .colab-df-convert {\n",
              "      background-color: #3B4455;\n",
              "      fill: #D2E3FC;\n",
              "    }\n",
              "\n",
              "    [theme=dark] .colab-df-convert:hover {\n",
              "      background-color: #434B5C;\n",
              "      box-shadow: 0px 1px 3px 1px rgba(0, 0, 0, 0.15);\n",
              "      filter: drop-shadow(0px 1px 2px rgba(0, 0, 0, 0.3));\n",
              "      fill: #FFFFFF;\n",
              "    }\n",
              "  </style>\n",
              "\n",
              "      <script>\n",
              "        const buttonEl =\n",
              "          document.querySelector('#df-b43f7ea0-adc4-4f41-803a-37a0e657a894 button.colab-df-convert');\n",
              "        buttonEl.style.display =\n",
              "          google.colab.kernel.accessAllowed ? 'block' : 'none';\n",
              "\n",
              "        async function convertToInteractive(key) {\n",
              "          const element = document.querySelector('#df-b43f7ea0-adc4-4f41-803a-37a0e657a894');\n",
              "          const dataTable =\n",
              "            await google.colab.kernel.invokeFunction('convertToInteractive',\n",
              "                                                     [key], {});\n",
              "          if (!dataTable) return;\n",
              "\n",
              "          const docLinkHtml = 'Like what you see? Visit the ' +\n",
              "            '<a target=\"_blank\" href=https://colab.research.google.com/notebooks/data_table.ipynb>data table notebook</a>'\n",
              "            + ' to learn more about interactive tables.';\n",
              "          element.innerHTML = '';\n",
              "          dataTable['output_type'] = 'display_data';\n",
              "          await google.colab.output.renderOutput(dataTable, element);\n",
              "          const docLink = document.createElement('div');\n",
              "          docLink.innerHTML = docLinkHtml;\n",
              "          element.appendChild(docLink);\n",
              "        }\n",
              "      </script>\n",
              "    </div>\n",
              "  </div>\n",
              "  "
            ]
          },
          "metadata": {},
          "execution_count": 7
        }
      ]
    },
    {
      "cell_type": "markdown",
      "metadata": {
        "id": "cJJ81NGK42fG"
      },
      "source": [
        "We see that we are dealing with tabular data of various types: we have text (e.g. countries), dates and numbers. Just like in a tabular sheet, each column has a label and each line has an index (column in bold on the left), so that every element can be located with these *coordinates*.\n",
        "\n",
        "## Methods attached to dataframes\n",
        "\n",
        "We have seen before that every variable in Python has a series of functions attached to it (methods). For example if we have a text variable (string) we can e.g. split it at a given place:"
      ]
    },
    {
      "cell_type": "markdown",
      "source": [
        "```\n",
        "my_string = 'This is a sentence with spaces.'\n",
        "my_string.split(' ')\n",
        "```"
      ],
      "metadata": {
        "id": "8Agw1WO14wYu"
      }
    },
    {
      "cell_type": "code",
      "source": [
        "my_string = 'This is a sentence with spaces.'\n",
        "my_string.split(' ')\n"
      ],
      "metadata": {
        "id": "2_zTrIod7qOA",
        "outputId": "c664b48c-2a22-4bf7-91df-4c1ab2244793",
        "colab": {
          "base_uri": "https://localhost:8080/"
        }
      },
      "execution_count": null,
      "outputs": [
        {
          "output_type": "execute_result",
          "data": {
            "text/plain": [
              "['This', 'is', 'a', 'sentence', 'with', 'spaces.']"
            ]
          },
          "metadata": {},
          "execution_count": 3
        }
      ]
    },
    {
      "cell_type": "markdown",
      "metadata": {
        "id": "CgSGrjzZ6JtO"
      },
      "source": [
        "The same logic applies to Pandas DataFrames and in general to any new variable that is created by a given package: they all come with a series of methods attached to them.\n",
        "\n",
        "For example if we only want to display the fist 5 lines of the DataFrame, we can use the ```head``` method:"
      ]
    },
    {
      "cell_type": "markdown",
      "source": [
        "vaccine.head(5)"
      ],
      "metadata": {
        "id": "8V5lYBN85_TO"
      }
    },
    {
      "cell_type": "code",
      "source": [],
      "metadata": {
        "id": "wE3u7Htm86Y0"
      },
      "execution_count": null,
      "outputs": []
    },
    {
      "cell_type": "markdown",
      "metadata": {
        "id": "BNuROR_d6htS"
      },
      "source": [
        "We will learn later how to extract statistics, but just as an example of functions that exsit, you can for example get a basic statistical description of a DataFrame using the ```describe``` method:"
      ]
    },
    {
      "cell_type": "markdown",
      "source": [
        "vaccine.describe()"
      ],
      "metadata": {
        "id": "1UT83ZNq6Uzy"
      }
    },
    {
      "cell_type": "code",
      "source": [],
      "metadata": {
        "id": "7YyRNIC68_H6"
      },
      "execution_count": null,
      "outputs": []
    },
    {
      "cell_type": "markdown",
      "metadata": {
        "id": "6gQcF8NQ6uZe"
      },
      "source": [
        "We see that in this particular case, the returned object is a DataFrame as well!\n",
        "\n",
        "## Accessing columns\n",
        "\n",
        "If we want to work with only a given column from a dataframe, we can extract it. Just like when we want to extract an element from a regular list, e.g. ```my_list[3]```, for Pandas we also use the square parenthesis (brackets) but this time with the name of the column:"
      ]
    },
    {
      "cell_type": "markdown",
      "source": [
        "```\n",
        "some_column = vaccine['daily_vaccinations']\n",
        "some_column\n",
        "```"
      ],
      "metadata": {
        "id": "GBOj3B5r6giA"
      }
    },
    {
      "cell_type": "code",
      "source": [],
      "metadata": {
        "id": "RlEiBDuS9EGT"
      },
      "execution_count": null,
      "outputs": []
    },
    {
      "cell_type": "markdown",
      "metadata": {
        "id": "I2QOrlxG_hwq"
      },
      "source": [
        "As we have a single columns here, we are not dealing with a DataFrame anymore but with a Series:"
      ]
    },
    {
      "cell_type": "markdown",
      "source": [
        "type(some_column)"
      ],
      "metadata": {
        "id": "lEKnBjNS-x8l"
      }
    },
    {
      "cell_type": "code",
      "source": [],
      "metadata": {
        "id": "onr5TS6P9OHZ"
      },
      "execution_count": null,
      "outputs": []
    },
    {
      "cell_type": "markdown",
      "metadata": {
        "id": "qy1TSUsq_vjj"
      },
      "source": [
        "We won't explore much the Series object on its own in this course, but know that you can for example create a DataFrame from scratch by combining multiple Series.\n",
        "\n",
        "## What is underlying Pandas\n",
        "\n",
        "We see above that ```some_column``` is composed of and index (0, 1, 2 etc) and the corresponding values (NaN, 64.0, 64.0 etc.). If we want to do mathematics with those values, we don't really need the index and a list of numbers would be sufficient. We can obtain such a list by asking for the ```values``` of the series:"
      ]
    },
    {
      "cell_type": "markdown",
      "source": [
        "```actual_values = some_column.values\n",
        "actual_values\n",
        "```"
      ],
      "metadata": {
        "id": "kbW0VZx1_pap"
      }
    },
    {
      "cell_type": "code",
      "source": [],
      "metadata": {
        "id": "2U7rOHOV9Tyy"
      },
      "execution_count": null,
      "outputs": []
    },
    {
      "cell_type": "markdown",
      "metadata": {
        "id": "HBOCZwuCAwR0"
      },
      "source": [
        "We see that the output is not just a simple Python list. It is in fact called an ```array```. If we ask for the type of this object, we get:"
      ]
    },
    {
      "cell_type": "markdown",
      "source": [
        "type(actual_values)"
      ],
      "metadata": {
        "id": "RDGVdnsuArRh"
      }
    },
    {
      "cell_type": "code",
      "source": [],
      "metadata": {
        "id": "IBDGquJE9bBq"
      },
      "execution_count": null,
      "outputs": []
    },
    {
      "cell_type": "markdown",
      "metadata": {
        "id": "i8P0PD2ZA-Nt"
      },
      "source": [
        "The lists of values contained in Pandas DataFrame are in fact Numpy arrays. A \n",
        "large part of the computing logic in Pandas is inspired from Numpy, therefore we now make a detour to Numpy before coming back to DataFrames."
      ]
    },
    {
      "cell_type": "markdown",
      "source": [
        "# Exercise"
      ],
      "metadata": {
        "id": "W0EVprp7euN1"
      }
    },
    {
      "cell_type": "markdown",
      "metadata": {
        "id": "5Iosdk-tYtsd"
      },
      "source": [
        "\n",
        "1. In the Data folder on Ilias there is the data file CCD-Data.txt. Upload this file to a folder on your google drive. If you don't have a google account, make it now. Look at the file by clicking on it. Try to make sense of the data with the help of the metadata file also in the Ilias folder. \n",
        "\n",
        "2. Mount the file to this your notebook (example code below). The path and the file name must match the ones on your google drive, of course.\n"
      ]
    },
    {
      "cell_type": "code",
      "source": [
        "from google.colab import drive\n",
        "drive.mount('/content/drive')\n",
        "path = '/content/drive/MyDrive/CCD-Data.txt' # To be adapted"
      ],
      "metadata": {
        "id": "DYR4iYYhI0gH",
        "colab": {
          "base_uri": "https://localhost:8080/"
        },
        "outputId": "7e378c61-2da0-4670-b643-ce4cd1155b9e"
      },
      "execution_count": 11,
      "outputs": [
        {
          "output_type": "stream",
          "name": "stdout",
          "text": [
            "Drive already mounted at /content/drive; to attempt to forcibly remount, call drive.mount(\"/content/drive\", force_remount=True).\n"
          ]
        }
      ]
    },
    {
      "cell_type": "markdown",
      "source": [
        "3. Try to understand based on the API description (https://pandas.pydata.org/docs/reference/api/pandas.read_csv.html) and find out how to read the data into a DataFrame without the header information. Hint: Use the header argument."
      ],
      "metadata": {
        "id": "bHMdX664RcQ9"
      }
    },
    {
      "cell_type": "code",
      "metadata": {
        "id": "jc8tXuIDYuX2",
        "outputId": "b2974b4b-3061-4abd-cc60-ecaf317ec45c",
        "colab": {
          "base_uri": "https://localhost:8080/",
          "height": 363
        }
      },
      "source": [
        "import pandas as pd\n",
        "df = pd.read_csv(path, delimiter='\\t', header = 13)\n",
        "df.head()"
      ],
      "execution_count": 12,
      "outputs": [
        {
          "output_type": "error",
          "ename": "FileNotFoundError",
          "evalue": "ignored",
          "traceback": [
            "\u001b[0;31m---------------------------------------------------------------------------\u001b[0m",
            "\u001b[0;31mFileNotFoundError\u001b[0m                         Traceback (most recent call last)",
            "\u001b[0;32m<ipython-input-12-f385460aba2b>\u001b[0m in \u001b[0;36m<module>\u001b[0;34m\u001b[0m\n\u001b[1;32m      1\u001b[0m \u001b[0;32mimport\u001b[0m \u001b[0mpandas\u001b[0m \u001b[0;32mas\u001b[0m \u001b[0mpd\u001b[0m\u001b[0;34m\u001b[0m\u001b[0;34m\u001b[0m\u001b[0m\n\u001b[0;32m----> 2\u001b[0;31m \u001b[0mdf\u001b[0m \u001b[0;34m=\u001b[0m \u001b[0mpd\u001b[0m\u001b[0;34m.\u001b[0m\u001b[0mread_csv\u001b[0m\u001b[0;34m(\u001b[0m\u001b[0mpath\u001b[0m\u001b[0;34m,\u001b[0m \u001b[0mdelimiter\u001b[0m\u001b[0;34m=\u001b[0m\u001b[0;34m'\\t'\u001b[0m\u001b[0;34m,\u001b[0m \u001b[0mheader\u001b[0m \u001b[0;34m=\u001b[0m \u001b[0;36m13\u001b[0m\u001b[0;34m)\u001b[0m\u001b[0;34m\u001b[0m\u001b[0;34m\u001b[0m\u001b[0m\n\u001b[0m\u001b[1;32m      3\u001b[0m \u001b[0mdf\u001b[0m\u001b[0;34m.\u001b[0m\u001b[0mhead\u001b[0m\u001b[0;34m(\u001b[0m\u001b[0;34m)\u001b[0m\u001b[0;34m\u001b[0m\u001b[0;34m\u001b[0m\u001b[0m\n",
            "\u001b[0;32m/usr/local/lib/python3.8/dist-packages/pandas/util/_decorators.py\u001b[0m in \u001b[0;36mwrapper\u001b[0;34m(*args, **kwargs)\u001b[0m\n\u001b[1;32m    309\u001b[0m                     \u001b[0mstacklevel\u001b[0m\u001b[0;34m=\u001b[0m\u001b[0mstacklevel\u001b[0m\u001b[0;34m,\u001b[0m\u001b[0;34m\u001b[0m\u001b[0;34m\u001b[0m\u001b[0m\n\u001b[1;32m    310\u001b[0m                 )\n\u001b[0;32m--> 311\u001b[0;31m             \u001b[0;32mreturn\u001b[0m \u001b[0mfunc\u001b[0m\u001b[0;34m(\u001b[0m\u001b[0;34m*\u001b[0m\u001b[0margs\u001b[0m\u001b[0;34m,\u001b[0m \u001b[0;34m**\u001b[0m\u001b[0mkwargs\u001b[0m\u001b[0;34m)\u001b[0m\u001b[0;34m\u001b[0m\u001b[0;34m\u001b[0m\u001b[0m\n\u001b[0m\u001b[1;32m    312\u001b[0m \u001b[0;34m\u001b[0m\u001b[0m\n\u001b[1;32m    313\u001b[0m         \u001b[0;32mreturn\u001b[0m \u001b[0mwrapper\u001b[0m\u001b[0;34m\u001b[0m\u001b[0;34m\u001b[0m\u001b[0m\n",
            "\u001b[0;32m/usr/local/lib/python3.8/dist-packages/pandas/io/parsers/readers.py\u001b[0m in \u001b[0;36mread_csv\u001b[0;34m(filepath_or_buffer, sep, delimiter, header, names, index_col, usecols, squeeze, prefix, mangle_dupe_cols, dtype, engine, converters, true_values, false_values, skipinitialspace, skiprows, skipfooter, nrows, na_values, keep_default_na, na_filter, verbose, skip_blank_lines, parse_dates, infer_datetime_format, keep_date_col, date_parser, dayfirst, cache_dates, iterator, chunksize, compression, thousands, decimal, lineterminator, quotechar, quoting, doublequote, escapechar, comment, encoding, encoding_errors, dialect, error_bad_lines, warn_bad_lines, on_bad_lines, delim_whitespace, low_memory, memory_map, float_precision, storage_options)\u001b[0m\n\u001b[1;32m    584\u001b[0m     \u001b[0mkwds\u001b[0m\u001b[0;34m.\u001b[0m\u001b[0mupdate\u001b[0m\u001b[0;34m(\u001b[0m\u001b[0mkwds_defaults\u001b[0m\u001b[0;34m)\u001b[0m\u001b[0;34m\u001b[0m\u001b[0;34m\u001b[0m\u001b[0m\n\u001b[1;32m    585\u001b[0m \u001b[0;34m\u001b[0m\u001b[0m\n\u001b[0;32m--> 586\u001b[0;31m     \u001b[0;32mreturn\u001b[0m \u001b[0m_read\u001b[0m\u001b[0;34m(\u001b[0m\u001b[0mfilepath_or_buffer\u001b[0m\u001b[0;34m,\u001b[0m \u001b[0mkwds\u001b[0m\u001b[0;34m)\u001b[0m\u001b[0;34m\u001b[0m\u001b[0;34m\u001b[0m\u001b[0m\n\u001b[0m\u001b[1;32m    587\u001b[0m \u001b[0;34m\u001b[0m\u001b[0m\n\u001b[1;32m    588\u001b[0m \u001b[0;34m\u001b[0m\u001b[0m\n",
            "\u001b[0;32m/usr/local/lib/python3.8/dist-packages/pandas/io/parsers/readers.py\u001b[0m in \u001b[0;36m_read\u001b[0;34m(filepath_or_buffer, kwds)\u001b[0m\n\u001b[1;32m    480\u001b[0m \u001b[0;34m\u001b[0m\u001b[0m\n\u001b[1;32m    481\u001b[0m     \u001b[0;31m# Create the parser.\u001b[0m\u001b[0;34m\u001b[0m\u001b[0;34m\u001b[0m\u001b[0;34m\u001b[0m\u001b[0m\n\u001b[0;32m--> 482\u001b[0;31m     \u001b[0mparser\u001b[0m \u001b[0;34m=\u001b[0m \u001b[0mTextFileReader\u001b[0m\u001b[0;34m(\u001b[0m\u001b[0mfilepath_or_buffer\u001b[0m\u001b[0;34m,\u001b[0m \u001b[0;34m**\u001b[0m\u001b[0mkwds\u001b[0m\u001b[0;34m)\u001b[0m\u001b[0;34m\u001b[0m\u001b[0;34m\u001b[0m\u001b[0m\n\u001b[0m\u001b[1;32m    483\u001b[0m \u001b[0;34m\u001b[0m\u001b[0m\n\u001b[1;32m    484\u001b[0m     \u001b[0;32mif\u001b[0m \u001b[0mchunksize\u001b[0m \u001b[0;32mor\u001b[0m \u001b[0miterator\u001b[0m\u001b[0;34m:\u001b[0m\u001b[0;34m\u001b[0m\u001b[0;34m\u001b[0m\u001b[0m\n",
            "\u001b[0;32m/usr/local/lib/python3.8/dist-packages/pandas/io/parsers/readers.py\u001b[0m in \u001b[0;36m__init__\u001b[0;34m(self, f, engine, **kwds)\u001b[0m\n\u001b[1;32m    809\u001b[0m             \u001b[0mself\u001b[0m\u001b[0;34m.\u001b[0m\u001b[0moptions\u001b[0m\u001b[0;34m[\u001b[0m\u001b[0;34m\"has_index_names\"\u001b[0m\u001b[0;34m]\u001b[0m \u001b[0;34m=\u001b[0m \u001b[0mkwds\u001b[0m\u001b[0;34m[\u001b[0m\u001b[0;34m\"has_index_names\"\u001b[0m\u001b[0;34m]\u001b[0m\u001b[0;34m\u001b[0m\u001b[0;34m\u001b[0m\u001b[0m\n\u001b[1;32m    810\u001b[0m \u001b[0;34m\u001b[0m\u001b[0m\n\u001b[0;32m--> 811\u001b[0;31m         \u001b[0mself\u001b[0m\u001b[0;34m.\u001b[0m\u001b[0m_engine\u001b[0m \u001b[0;34m=\u001b[0m \u001b[0mself\u001b[0m\u001b[0;34m.\u001b[0m\u001b[0m_make_engine\u001b[0m\u001b[0;34m(\u001b[0m\u001b[0mself\u001b[0m\u001b[0;34m.\u001b[0m\u001b[0mengine\u001b[0m\u001b[0;34m)\u001b[0m\u001b[0;34m\u001b[0m\u001b[0;34m\u001b[0m\u001b[0m\n\u001b[0m\u001b[1;32m    812\u001b[0m \u001b[0;34m\u001b[0m\u001b[0m\n\u001b[1;32m    813\u001b[0m     \u001b[0;32mdef\u001b[0m \u001b[0mclose\u001b[0m\u001b[0;34m(\u001b[0m\u001b[0mself\u001b[0m\u001b[0;34m)\u001b[0m\u001b[0;34m:\u001b[0m\u001b[0;34m\u001b[0m\u001b[0;34m\u001b[0m\u001b[0m\n",
            "\u001b[0;32m/usr/local/lib/python3.8/dist-packages/pandas/io/parsers/readers.py\u001b[0m in \u001b[0;36m_make_engine\u001b[0;34m(self, engine)\u001b[0m\n\u001b[1;32m   1038\u001b[0m             )\n\u001b[1;32m   1039\u001b[0m         \u001b[0;31m# error: Too many arguments for \"ParserBase\"\u001b[0m\u001b[0;34m\u001b[0m\u001b[0;34m\u001b[0m\u001b[0;34m\u001b[0m\u001b[0m\n\u001b[0;32m-> 1040\u001b[0;31m         \u001b[0;32mreturn\u001b[0m \u001b[0mmapping\u001b[0m\u001b[0;34m[\u001b[0m\u001b[0mengine\u001b[0m\u001b[0;34m]\u001b[0m\u001b[0;34m(\u001b[0m\u001b[0mself\u001b[0m\u001b[0;34m.\u001b[0m\u001b[0mf\u001b[0m\u001b[0;34m,\u001b[0m \u001b[0;34m**\u001b[0m\u001b[0mself\u001b[0m\u001b[0;34m.\u001b[0m\u001b[0moptions\u001b[0m\u001b[0;34m)\u001b[0m  \u001b[0;31m# type: ignore[call-arg]\u001b[0m\u001b[0;34m\u001b[0m\u001b[0;34m\u001b[0m\u001b[0m\n\u001b[0m\u001b[1;32m   1041\u001b[0m \u001b[0;34m\u001b[0m\u001b[0m\n\u001b[1;32m   1042\u001b[0m     \u001b[0;32mdef\u001b[0m \u001b[0m_failover_to_python\u001b[0m\u001b[0;34m(\u001b[0m\u001b[0mself\u001b[0m\u001b[0;34m)\u001b[0m\u001b[0;34m:\u001b[0m\u001b[0;34m\u001b[0m\u001b[0;34m\u001b[0m\u001b[0m\n",
            "\u001b[0;32m/usr/local/lib/python3.8/dist-packages/pandas/io/parsers/c_parser_wrapper.py\u001b[0m in \u001b[0;36m__init__\u001b[0;34m(self, src, **kwds)\u001b[0m\n\u001b[1;32m     49\u001b[0m \u001b[0;34m\u001b[0m\u001b[0m\n\u001b[1;32m     50\u001b[0m         \u001b[0;31m# open handles\u001b[0m\u001b[0;34m\u001b[0m\u001b[0;34m\u001b[0m\u001b[0;34m\u001b[0m\u001b[0m\n\u001b[0;32m---> 51\u001b[0;31m         \u001b[0mself\u001b[0m\u001b[0;34m.\u001b[0m\u001b[0m_open_handles\u001b[0m\u001b[0;34m(\u001b[0m\u001b[0msrc\u001b[0m\u001b[0;34m,\u001b[0m \u001b[0mkwds\u001b[0m\u001b[0;34m)\u001b[0m\u001b[0;34m\u001b[0m\u001b[0;34m\u001b[0m\u001b[0m\n\u001b[0m\u001b[1;32m     52\u001b[0m         \u001b[0;32massert\u001b[0m \u001b[0mself\u001b[0m\u001b[0;34m.\u001b[0m\u001b[0mhandles\u001b[0m \u001b[0;32mis\u001b[0m \u001b[0;32mnot\u001b[0m \u001b[0;32mNone\u001b[0m\u001b[0;34m\u001b[0m\u001b[0;34m\u001b[0m\u001b[0m\n\u001b[1;32m     53\u001b[0m \u001b[0;34m\u001b[0m\u001b[0m\n",
            "\u001b[0;32m/usr/local/lib/python3.8/dist-packages/pandas/io/parsers/base_parser.py\u001b[0m in \u001b[0;36m_open_handles\u001b[0;34m(self, src, kwds)\u001b[0m\n\u001b[1;32m    220\u001b[0m         \u001b[0mLet\u001b[0m \u001b[0mthe\u001b[0m \u001b[0mreaders\u001b[0m \u001b[0mopen\u001b[0m \u001b[0mIOHandles\u001b[0m \u001b[0mafter\u001b[0m \u001b[0mthey\u001b[0m \u001b[0mare\u001b[0m \u001b[0mdone\u001b[0m \u001b[0;32mwith\u001b[0m \u001b[0mtheir\u001b[0m \u001b[0mpotential\u001b[0m \u001b[0mraises\u001b[0m\u001b[0;34m.\u001b[0m\u001b[0;34m\u001b[0m\u001b[0;34m\u001b[0m\u001b[0m\n\u001b[1;32m    221\u001b[0m         \"\"\"\n\u001b[0;32m--> 222\u001b[0;31m         self.handles = get_handle(\n\u001b[0m\u001b[1;32m    223\u001b[0m             \u001b[0msrc\u001b[0m\u001b[0;34m,\u001b[0m\u001b[0;34m\u001b[0m\u001b[0;34m\u001b[0m\u001b[0m\n\u001b[1;32m    224\u001b[0m             \u001b[0;34m\"r\"\u001b[0m\u001b[0;34m,\u001b[0m\u001b[0;34m\u001b[0m\u001b[0;34m\u001b[0m\u001b[0m\n",
            "\u001b[0;32m/usr/local/lib/python3.8/dist-packages/pandas/io/common.py\u001b[0m in \u001b[0;36mget_handle\u001b[0;34m(path_or_buf, mode, encoding, compression, memory_map, is_text, errors, storage_options)\u001b[0m\n\u001b[1;32m    700\u001b[0m         \u001b[0;32mif\u001b[0m \u001b[0mioargs\u001b[0m\u001b[0;34m.\u001b[0m\u001b[0mencoding\u001b[0m \u001b[0;32mand\u001b[0m \u001b[0;34m\"b\"\u001b[0m \u001b[0;32mnot\u001b[0m \u001b[0;32min\u001b[0m \u001b[0mioargs\u001b[0m\u001b[0;34m.\u001b[0m\u001b[0mmode\u001b[0m\u001b[0;34m:\u001b[0m\u001b[0;34m\u001b[0m\u001b[0;34m\u001b[0m\u001b[0m\n\u001b[1;32m    701\u001b[0m             \u001b[0;31m# Encoding\u001b[0m\u001b[0;34m\u001b[0m\u001b[0;34m\u001b[0m\u001b[0;34m\u001b[0m\u001b[0m\n\u001b[0;32m--> 702\u001b[0;31m             handle = open(\n\u001b[0m\u001b[1;32m    703\u001b[0m                 \u001b[0mhandle\u001b[0m\u001b[0;34m,\u001b[0m\u001b[0;34m\u001b[0m\u001b[0;34m\u001b[0m\u001b[0m\n\u001b[1;32m    704\u001b[0m                 \u001b[0mioargs\u001b[0m\u001b[0;34m.\u001b[0m\u001b[0mmode\u001b[0m\u001b[0;34m,\u001b[0m\u001b[0;34m\u001b[0m\u001b[0;34m\u001b[0m\u001b[0m\n",
            "\u001b[0;31mFileNotFoundError\u001b[0m: [Errno 2] No such file or directory: '/content/drive/MyDrive/CCD-Data.txt'"
          ]
        }
      ]
    },
    {
      "cell_type": "code",
      "source": [],
      "metadata": {
        "id": "8KPMOfxd0t4p"
      },
      "execution_count": null,
      "outputs": []
    },
    {
      "cell_type": "markdown",
      "source": [
        "4. Study this dataset a bit with df.info() and df.describe() methods. How big is the dataset: How many rows, how many columns, how much space in the memory? "
      ],
      "metadata": {
        "id": "V-hJAIi5R69m"
      }
    },
    {
      "cell_type": "code",
      "source": [
        "\n",
        "df.info()\n",
        "df.describe()"
      ],
      "metadata": {
        "id": "mJ1eSjLTAB7n"
      },
      "execution_count": null,
      "outputs": []
    },
    {
      "cell_type": "markdown",
      "source": [
        "5. Plot some columns."
      ],
      "metadata": {
        "id": "1HjPQjXGS74M"
      }
    },
    {
      "cell_type": "code",
      "source": [
        "df[5].hist()"
      ],
      "metadata": {
        "id": "Bo0523KXPuUO"
      },
      "execution_count": null,
      "outputs": []
    },
    {
      "cell_type": "markdown",
      "source": [
        "After finishing the exercise fill this one question [form](https://docs.google.com/forms/d/e/1FAIpQLSc1U9FGUqwizHwXZSf1dtGHwaGqyxjQuRxnhHYFPy1VUtrL4g/viewform?usp=sf_link) (mandatory) !"
      ],
      "metadata": {
        "id": "Z3m_Kom4fQcf"
      }
    }
  ]
}